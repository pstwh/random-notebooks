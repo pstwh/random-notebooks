{
 "cells": [
  {
   "cell_type": "code",
   "execution_count": 1,
   "metadata": {},
   "outputs": [],
   "source": [
    "import pandas as pd"
   ]
  },
  {
   "cell_type": "code",
   "execution_count": 13,
   "metadata": {},
   "outputs": [],
   "source": [
    "df = pd.read_csv('random-data/simtempos.csv')"
   ]
  },
  {
   "cell_type": "markdown",
   "metadata": {},
   "source": [
    "# 01) Tempo referente aos estágios"
   ]
  },
  {
   "cell_type": "code",
   "execution_count": 14,
   "metadata": {},
   "outputs": [
    {
     "data": {
      "text/html": [
       "<div>\n",
       "<style scoped>\n",
       "    .dataframe tbody tr th:only-of-type {\n",
       "        vertical-align: middle;\n",
       "    }\n",
       "\n",
       "    .dataframe tbody tr th {\n",
       "        vertical-align: top;\n",
       "    }\n",
       "\n",
       "    .dataframe thead th {\n",
       "        text-align: right;\n",
       "    }\n",
       "</style>\n",
       "<table border=\"1\" class=\"dataframe\">\n",
       "  <thead>\n",
       "    <tr style=\"text-align: right;\">\n",
       "      <th></th>\n",
       "      <th>[1]</th>\n",
       "      <th>[2]</th>\n",
       "      <th>[3]</th>\n",
       "      <th>[4]</th>\n",
       "      <th>[5]</th>\n",
       "      <th>[6]</th>\n",
       "    </tr>\n",
       "  </thead>\n",
       "  <tbody>\n",
       "    <tr>\n",
       "      <th>0</th>\n",
       "      <td>22</td>\n",
       "      <td>166</td>\n",
       "      <td>95</td>\n",
       "      <td>60</td>\n",
       "      <td>624</td>\n",
       "      <td>54</td>\n",
       "    </tr>\n",
       "    <tr>\n",
       "      <th>1</th>\n",
       "      <td>19</td>\n",
       "      <td>146</td>\n",
       "      <td>65</td>\n",
       "      <td>32</td>\n",
       "      <td>834</td>\n",
       "      <td>44</td>\n",
       "    </tr>\n",
       "    <tr>\n",
       "      <th>2</th>\n",
       "      <td>30</td>\n",
       "      <td>155</td>\n",
       "      <td>105</td>\n",
       "      <td>21</td>\n",
       "      <td>727</td>\n",
       "      <td>18</td>\n",
       "    </tr>\n",
       "    <tr>\n",
       "      <th>3</th>\n",
       "      <td>24</td>\n",
       "      <td>155</td>\n",
       "      <td>86</td>\n",
       "      <td>48</td>\n",
       "      <td>366</td>\n",
       "      <td>58</td>\n",
       "    </tr>\n",
       "    <tr>\n",
       "      <th>4</th>\n",
       "      <td>40</td>\n",
       "      <td>83</td>\n",
       "      <td>75</td>\n",
       "      <td>54</td>\n",
       "      <td>617</td>\n",
       "      <td>31</td>\n",
       "    </tr>\n",
       "    <tr>\n",
       "      <th>5</th>\n",
       "      <td>28</td>\n",
       "      <td>72</td>\n",
       "      <td>108</td>\n",
       "      <td>53</td>\n",
       "      <td>311</td>\n",
       "      <td>23</td>\n",
       "    </tr>\n",
       "    <tr>\n",
       "      <th>6</th>\n",
       "      <td>15</td>\n",
       "      <td>170</td>\n",
       "      <td>95</td>\n",
       "      <td>14</td>\n",
       "      <td>547</td>\n",
       "      <td>22</td>\n",
       "    </tr>\n",
       "    <tr>\n",
       "      <th>7</th>\n",
       "      <td>30</td>\n",
       "      <td>105</td>\n",
       "      <td>61</td>\n",
       "      <td>19</td>\n",
       "      <td>736</td>\n",
       "      <td>44</td>\n",
       "    </tr>\n",
       "    <tr>\n",
       "      <th>8</th>\n",
       "      <td>19</td>\n",
       "      <td>143</td>\n",
       "      <td>62</td>\n",
       "      <td>21</td>\n",
       "      <td>683</td>\n",
       "      <td>11</td>\n",
       "    </tr>\n",
       "    <tr>\n",
       "      <th>9</th>\n",
       "      <td>17</td>\n",
       "      <td>99</td>\n",
       "      <td>98</td>\n",
       "      <td>38</td>\n",
       "      <td>440</td>\n",
       "      <td>30</td>\n",
       "    </tr>\n",
       "    <tr>\n",
       "      <th>10</th>\n",
       "      <td>17</td>\n",
       "      <td>57</td>\n",
       "      <td>75</td>\n",
       "      <td>20</td>\n",
       "      <td>638</td>\n",
       "      <td>17</td>\n",
       "    </tr>\n",
       "    <tr>\n",
       "      <th>11</th>\n",
       "      <td>16</td>\n",
       "      <td>91</td>\n",
       "      <td>68</td>\n",
       "      <td>19</td>\n",
       "      <td>858</td>\n",
       "      <td>57</td>\n",
       "    </tr>\n",
       "    <tr>\n",
       "      <th>12</th>\n",
       "      <td>18</td>\n",
       "      <td>173</td>\n",
       "      <td>115</td>\n",
       "      <td>13</td>\n",
       "      <td>631</td>\n",
       "      <td>24</td>\n",
       "    </tr>\n",
       "    <tr>\n",
       "      <th>13</th>\n",
       "      <td>13</td>\n",
       "      <td>38</td>\n",
       "      <td>98</td>\n",
       "      <td>56</td>\n",
       "      <td>657</td>\n",
       "      <td>12</td>\n",
       "    </tr>\n",
       "    <tr>\n",
       "      <th>14</th>\n",
       "      <td>25</td>\n",
       "      <td>158</td>\n",
       "      <td>68</td>\n",
       "      <td>51</td>\n",
       "      <td>730</td>\n",
       "      <td>22</td>\n",
       "    </tr>\n",
       "    <tr>\n",
       "      <th>15</th>\n",
       "      <td>36</td>\n",
       "      <td>70</td>\n",
       "      <td>92</td>\n",
       "      <td>41</td>\n",
       "      <td>576</td>\n",
       "      <td>44</td>\n",
       "    </tr>\n",
       "    <tr>\n",
       "      <th>16</th>\n",
       "      <td>13</td>\n",
       "      <td>159</td>\n",
       "      <td>115</td>\n",
       "      <td>57</td>\n",
       "      <td>402</td>\n",
       "      <td>23</td>\n",
       "    </tr>\n",
       "    <tr>\n",
       "      <th>17</th>\n",
       "      <td>35</td>\n",
       "      <td>51</td>\n",
       "      <td>73</td>\n",
       "      <td>18</td>\n",
       "      <td>855</td>\n",
       "      <td>35</td>\n",
       "    </tr>\n",
       "    <tr>\n",
       "      <th>18</th>\n",
       "      <td>28</td>\n",
       "      <td>79</td>\n",
       "      <td>64</td>\n",
       "      <td>48</td>\n",
       "      <td>799</td>\n",
       "      <td>28</td>\n",
       "    </tr>\n",
       "    <tr>\n",
       "      <th>19</th>\n",
       "      <td>19</td>\n",
       "      <td>158</td>\n",
       "      <td>64</td>\n",
       "      <td>37</td>\n",
       "      <td>717</td>\n",
       "      <td>43</td>\n",
       "    </tr>\n",
       "    <tr>\n",
       "      <th>20</th>\n",
       "      <td>31</td>\n",
       "      <td>171</td>\n",
       "      <td>98</td>\n",
       "      <td>20</td>\n",
       "      <td>420</td>\n",
       "      <td>57</td>\n",
       "    </tr>\n",
       "    <tr>\n",
       "      <th>21</th>\n",
       "      <td>22</td>\n",
       "      <td>156</td>\n",
       "      <td>65</td>\n",
       "      <td>15</td>\n",
       "      <td>493</td>\n",
       "      <td>57</td>\n",
       "    </tr>\n",
       "    <tr>\n",
       "      <th>22</th>\n",
       "      <td>15</td>\n",
       "      <td>51</td>\n",
       "      <td>75</td>\n",
       "      <td>48</td>\n",
       "      <td>684</td>\n",
       "      <td>22</td>\n",
       "    </tr>\n",
       "    <tr>\n",
       "      <th>23</th>\n",
       "      <td>36</td>\n",
       "      <td>46</td>\n",
       "      <td>114</td>\n",
       "      <td>54</td>\n",
       "      <td>711</td>\n",
       "      <td>21</td>\n",
       "    </tr>\n",
       "    <tr>\n",
       "      <th>24</th>\n",
       "      <td>37</td>\n",
       "      <td>75</td>\n",
       "      <td>109</td>\n",
       "      <td>37</td>\n",
       "      <td>388</td>\n",
       "      <td>54</td>\n",
       "    </tr>\n",
       "    <tr>\n",
       "      <th>25</th>\n",
       "      <td>24</td>\n",
       "      <td>108</td>\n",
       "      <td>117</td>\n",
       "      <td>15</td>\n",
       "      <td>376</td>\n",
       "      <td>19</td>\n",
       "    </tr>\n",
       "    <tr>\n",
       "      <th>26</th>\n",
       "      <td>21</td>\n",
       "      <td>31</td>\n",
       "      <td>104</td>\n",
       "      <td>35</td>\n",
       "      <td>749</td>\n",
       "      <td>56</td>\n",
       "    </tr>\n",
       "    <tr>\n",
       "      <th>27</th>\n",
       "      <td>24</td>\n",
       "      <td>69</td>\n",
       "      <td>86</td>\n",
       "      <td>22</td>\n",
       "      <td>739</td>\n",
       "      <td>10</td>\n",
       "    </tr>\n",
       "    <tr>\n",
       "      <th>28</th>\n",
       "      <td>28</td>\n",
       "      <td>89</td>\n",
       "      <td>76</td>\n",
       "      <td>60</td>\n",
       "      <td>474</td>\n",
       "      <td>37</td>\n",
       "    </tr>\n",
       "    <tr>\n",
       "      <th>29</th>\n",
       "      <td>12</td>\n",
       "      <td>47</td>\n",
       "      <td>61</td>\n",
       "      <td>37</td>\n",
       "      <td>815</td>\n",
       "      <td>58</td>\n",
       "    </tr>\n",
       "    <tr>\n",
       "      <th>30</th>\n",
       "      <td>14</td>\n",
       "      <td>52</td>\n",
       "      <td>108</td>\n",
       "      <td>29</td>\n",
       "      <td>635</td>\n",
       "      <td>42</td>\n",
       "    </tr>\n",
       "    <tr>\n",
       "      <th>31</th>\n",
       "      <td>18</td>\n",
       "      <td>44</td>\n",
       "      <td>98</td>\n",
       "      <td>40</td>\n",
       "      <td>885</td>\n",
       "      <td>32</td>\n",
       "    </tr>\n",
       "    <tr>\n",
       "      <th>32</th>\n",
       "      <td>34</td>\n",
       "      <td>159</td>\n",
       "      <td>100</td>\n",
       "      <td>24</td>\n",
       "      <td>342</td>\n",
       "      <td>16</td>\n",
       "    </tr>\n",
       "    <tr>\n",
       "      <th>33</th>\n",
       "      <td>34</td>\n",
       "      <td>128</td>\n",
       "      <td>74</td>\n",
       "      <td>28</td>\n",
       "      <td>809</td>\n",
       "      <td>14</td>\n",
       "    </tr>\n",
       "    <tr>\n",
       "      <th>34</th>\n",
       "      <td>39</td>\n",
       "      <td>91</td>\n",
       "      <td>119</td>\n",
       "      <td>22</td>\n",
       "      <td>874</td>\n",
       "      <td>35</td>\n",
       "    </tr>\n",
       "    <tr>\n",
       "      <th>35</th>\n",
       "      <td>38</td>\n",
       "      <td>154</td>\n",
       "      <td>103</td>\n",
       "      <td>45</td>\n",
       "      <td>499</td>\n",
       "      <td>47</td>\n",
       "    </tr>\n",
       "    <tr>\n",
       "      <th>36</th>\n",
       "      <td>22</td>\n",
       "      <td>88</td>\n",
       "      <td>103</td>\n",
       "      <td>31</td>\n",
       "      <td>454</td>\n",
       "      <td>49</td>\n",
       "    </tr>\n",
       "    <tr>\n",
       "      <th>37</th>\n",
       "      <td>17</td>\n",
       "      <td>91</td>\n",
       "      <td>118</td>\n",
       "      <td>18</td>\n",
       "      <td>300</td>\n",
       "      <td>24</td>\n",
       "    </tr>\n",
       "    <tr>\n",
       "      <th>38</th>\n",
       "      <td>24</td>\n",
       "      <td>172</td>\n",
       "      <td>110</td>\n",
       "      <td>30</td>\n",
       "      <td>409</td>\n",
       "      <td>52</td>\n",
       "    </tr>\n",
       "    <tr>\n",
       "      <th>39</th>\n",
       "      <td>10</td>\n",
       "      <td>41</td>\n",
       "      <td>63</td>\n",
       "      <td>27</td>\n",
       "      <td>688</td>\n",
       "      <td>43</td>\n",
       "    </tr>\n",
       "    <tr>\n",
       "      <th>40</th>\n",
       "      <td>14</td>\n",
       "      <td>76</td>\n",
       "      <td>72</td>\n",
       "      <td>35</td>\n",
       "      <td>615</td>\n",
       "      <td>10</td>\n",
       "    </tr>\n",
       "    <tr>\n",
       "      <th>41</th>\n",
       "      <td>31</td>\n",
       "      <td>80</td>\n",
       "      <td>71</td>\n",
       "      <td>21</td>\n",
       "      <td>757</td>\n",
       "      <td>41</td>\n",
       "    </tr>\n",
       "    <tr>\n",
       "      <th>42</th>\n",
       "      <td>14</td>\n",
       "      <td>178</td>\n",
       "      <td>86</td>\n",
       "      <td>48</td>\n",
       "      <td>649</td>\n",
       "      <td>31</td>\n",
       "    </tr>\n",
       "    <tr>\n",
       "      <th>43</th>\n",
       "      <td>31</td>\n",
       "      <td>158</td>\n",
       "      <td>65</td>\n",
       "      <td>29</td>\n",
       "      <td>321</td>\n",
       "      <td>47</td>\n",
       "    </tr>\n",
       "    <tr>\n",
       "      <th>44</th>\n",
       "      <td>28</td>\n",
       "      <td>135</td>\n",
       "      <td>62</td>\n",
       "      <td>52</td>\n",
       "      <td>710</td>\n",
       "      <td>50</td>\n",
       "    </tr>\n",
       "    <tr>\n",
       "      <th>45</th>\n",
       "      <td>15</td>\n",
       "      <td>94</td>\n",
       "      <td>118</td>\n",
       "      <td>10</td>\n",
       "      <td>500</td>\n",
       "      <td>37</td>\n",
       "    </tr>\n",
       "    <tr>\n",
       "      <th>46</th>\n",
       "      <td>19</td>\n",
       "      <td>139</td>\n",
       "      <td>75</td>\n",
       "      <td>31</td>\n",
       "      <td>477</td>\n",
       "      <td>47</td>\n",
       "    </tr>\n",
       "    <tr>\n",
       "      <th>47</th>\n",
       "      <td>15</td>\n",
       "      <td>125</td>\n",
       "      <td>93</td>\n",
       "      <td>11</td>\n",
       "      <td>794</td>\n",
       "      <td>37</td>\n",
       "    </tr>\n",
       "    <tr>\n",
       "      <th>48</th>\n",
       "      <td>29</td>\n",
       "      <td>142</td>\n",
       "      <td>72</td>\n",
       "      <td>34</td>\n",
       "      <td>458</td>\n",
       "      <td>14</td>\n",
       "    </tr>\n",
       "    <tr>\n",
       "      <th>49</th>\n",
       "      <td>23</td>\n",
       "      <td>131</td>\n",
       "      <td>73</td>\n",
       "      <td>54</td>\n",
       "      <td>781</td>\n",
       "      <td>26</td>\n",
       "    </tr>\n",
       "  </tbody>\n",
       "</table>\n",
       "</div>"
      ],
      "text/plain": [
       "    [1]  [2]  [3]  [4]  [5]  [6]\n",
       "0    22  166   95   60  624   54\n",
       "1    19  146   65   32  834   44\n",
       "2    30  155  105   21  727   18\n",
       "3    24  155   86   48  366   58\n",
       "4    40   83   75   54  617   31\n",
       "5    28   72  108   53  311   23\n",
       "6    15  170   95   14  547   22\n",
       "7    30  105   61   19  736   44\n",
       "8    19  143   62   21  683   11\n",
       "9    17   99   98   38  440   30\n",
       "10   17   57   75   20  638   17\n",
       "11   16   91   68   19  858   57\n",
       "12   18  173  115   13  631   24\n",
       "13   13   38   98   56  657   12\n",
       "14   25  158   68   51  730   22\n",
       "15   36   70   92   41  576   44\n",
       "16   13  159  115   57  402   23\n",
       "17   35   51   73   18  855   35\n",
       "18   28   79   64   48  799   28\n",
       "19   19  158   64   37  717   43\n",
       "20   31  171   98   20  420   57\n",
       "21   22  156   65   15  493   57\n",
       "22   15   51   75   48  684   22\n",
       "23   36   46  114   54  711   21\n",
       "24   37   75  109   37  388   54\n",
       "25   24  108  117   15  376   19\n",
       "26   21   31  104   35  749   56\n",
       "27   24   69   86   22  739   10\n",
       "28   28   89   76   60  474   37\n",
       "29   12   47   61   37  815   58\n",
       "30   14   52  108   29  635   42\n",
       "31   18   44   98   40  885   32\n",
       "32   34  159  100   24  342   16\n",
       "33   34  128   74   28  809   14\n",
       "34   39   91  119   22  874   35\n",
       "35   38  154  103   45  499   47\n",
       "36   22   88  103   31  454   49\n",
       "37   17   91  118   18  300   24\n",
       "38   24  172  110   30  409   52\n",
       "39   10   41   63   27  688   43\n",
       "40   14   76   72   35  615   10\n",
       "41   31   80   71   21  757   41\n",
       "42   14  178   86   48  649   31\n",
       "43   31  158   65   29  321   47\n",
       "44   28  135   62   52  710   50\n",
       "45   15   94  118   10  500   37\n",
       "46   19  139   75   31  477   47\n",
       "47   15  125   93   11  794   37\n",
       "48   29  142   72   34  458   14\n",
       "49   23  131   73   54  781   26"
      ]
     },
     "execution_count": 14,
     "metadata": {},
     "output_type": "execute_result"
    }
   ],
   "source": [
    "df"
   ]
  },
  {
   "cell_type": "code",
   "execution_count": 15,
   "metadata": {},
   "outputs": [],
   "source": [
    "import matplotlib.pyplot as plt"
   ]
  },
  {
   "cell_type": "markdown",
   "metadata": {},
   "source": [
    "# Gráfico referente ao tempo de todos os processos"
   ]
  },
  {
   "cell_type": "code",
   "execution_count": 30,
   "metadata": {},
   "outputs": [
    {
     "data": {
      "text/plain": [
       "<matplotlib.axes._subplots.AxesSubplot at 0x10db49da0>"
      ]
     },
     "execution_count": 30,
     "metadata": {},
     "output_type": "execute_result"
    },
    {
     "data": {
      "image/png": "[encoded data removed]",
      "text/plain": [
       "<matplotlib.figure.Figure at 0x10db18128>"
      ]
     },
     "metadata": {},
     "output_type": "display_data"
    }
   ],
   "source": [
    "df.plot()"
   ]
  },
  {
   "cell_type": "markdown",
   "metadata": {},
   "source": [
    "# Histograma referente ao tempo de chegada do processo [1]"
   ]
  },
  {
   "cell_type": "code",
   "execution_count": 26,
   "metadata": {},
   "outputs": [
    {
     "data": {
      "text/plain": [
       "<matplotlib.axes._subplots.AxesSubplot at 0x10d63de10>"
      ]
     },
     "execution_count": 26,
     "metadata": {},
     "output_type": "execute_result"
    },
    {
     "data": {
      "image/png": "[encoded data removed]",
      "text/plain": [
       "<matplotlib.figure.Figure at 0x10d573b38>"
      ]
     },
     "metadata": {},
     "output_type": "display_data"
    }
   ],
   "source": [
    "df['[1]'].hist()"
   ]
  },
  {
   "cell_type": "markdown",
   "metadata": {},
   "source": [
    "# Histograma referente ao tempo de chegada do processo [2]"
   ]
  },
  {
   "cell_type": "code",
   "execution_count": 27,
   "metadata": {},
   "outputs": [
    {
     "data": {
      "text/plain": [
       "<matplotlib.axes._subplots.AxesSubplot at 0x10d6db518>"
      ]
     },
     "execution_count": 27,
     "metadata": {},
     "output_type": "execute_result"
    },
    {
     "data": {
      "image/png": "[encoded data removed]",
      "text/plain": [
       "<matplotlib.figure.Figure at 0x10d71ed30>"
      ]
     },
     "metadata": {},
     "output_type": "display_data"
    }
   ],
   "source": [
    "df['[2]'].hist()"
   ]
  },
  {
   "cell_type": "markdown",
   "metadata": {},
   "source": [
    "# Histograma referente ao tempo de chegada do processo [3]"
   ]
  },
  {
   "cell_type": "code",
   "execution_count": 28,
   "metadata": {},
   "outputs": [
    {
     "data": {
      "text/plain": [
       "<matplotlib.axes._subplots.AxesSubplot at 0x10d738240>"
      ]
     },
     "execution_count": 28,
     "metadata": {},
     "output_type": "execute_result"
    },
    {
     "data": {
      "image/png": "[encoded data removed]",
      "text/plain": [
       "<matplotlib.figure.Figure at 0x10d74d5f8>"
      ]
     },
     "metadata": {},
     "output_type": "display_data"
    }
   ],
   "source": [
    "df['[3]'].hist()"
   ]
  },
  {
   "cell_type": "markdown",
   "metadata": {},
   "source": [
    "# Histograma referente ao tempo de chegada do processo [4]"
   ]
  },
  {
   "cell_type": "code",
   "execution_count": 31,
   "metadata": {},
   "outputs": [
    {
     "data": {
      "text/plain": [
       "<matplotlib.axes._subplots.AxesSubplot at 0x10dad7c88>"
      ]
     },
     "execution_count": 31,
     "metadata": {},
     "output_type": "execute_result"
    },
    {
     "data": {
      "image/png": "[encoded data removed]",
      "text/plain": [
       "<matplotlib.figure.Figure at 0x10dc3c710>"
      ]
     },
     "metadata": {},
     "output_type": "display_data"
    }
   ],
   "source": [
    "df['[4]'].hist()"
   ]
  },
  {
   "cell_type": "markdown",
   "metadata": {},
   "source": [
    "# Histograma referente ao tempo de chegada do processo [5]"
   ]
  },
  {
   "cell_type": "code",
   "execution_count": 32,
   "metadata": {},
   "outputs": [
    {
     "data": {
      "text/plain": [
       "<matplotlib.axes._subplots.AxesSubplot at 0x10d7bceb8>"
      ]
     },
     "execution_count": 32,
     "metadata": {},
     "output_type": "execute_result"
    },
    {
     "data": {
      "image/png": "[encoded data removed]",
      "text/plain": [
       "<matplotlib.figure.Figure at 0x10dd0d278>"
      ]
     },
     "metadata": {},
     "output_type": "display_data"
    }
   ],
   "source": [
    "df['[5]'].hist()"
   ]
  },
  {
   "cell_type": "markdown",
   "metadata": {},
   "source": [
    "# Histograma referente ao tempo de chegada do processo [6]"
   ]
  },
  {
   "cell_type": "code",
   "execution_count": 33,
   "metadata": {},
   "outputs": [
    {
     "data": {
      "text/plain": [
       "<matplotlib.axes._subplots.AxesSubplot at 0x10ddcc860>"
      ]
     },
     "execution_count": 33,
     "metadata": {},
     "output_type": "execute_result"
    },
    {
     "data": {
      "image/png": "[encoded data removed]",
      "text/plain": [
       "<matplotlib.figure.Figure at 0x10dd386d8>"
      ]
     },
     "metadata": {},
     "output_type": "display_data"
    }
   ],
   "source": [
    "df['[6]'].hist()"
   ]
  }
 ],
 "metadata": {
  "kernelspec": {
   "display_name": "Python 3",
   "language": "python",
   "name": "python3"
  },
  "language_info": {
   "codemirror_mode": {
    "name": "ipython",
    "version": 3
   },
   "file_extension": ".py",
   "mimetype": "text/x-python",
   "name": "python",
   "nbconvert_exporter": "python",
   "pygments_lexer": "ipython3",
   "version": "3.6.4"
  }
 },
 "nbformat": 4,
 "nbformat_minor": 2
}
