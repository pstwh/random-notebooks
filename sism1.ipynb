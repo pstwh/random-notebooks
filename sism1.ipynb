{
 "cells": [
  {
   "cell_type": "code",
   "execution_count": 1,
   "metadata": {},
   "outputs": [],
   "source": [
    "import numpy as np\n",
    "import pandas as pd\n",
    "import matplotlib.pyplot as plt\n",
    "import math\n",
    "import random"
   ]
  },
  {
   "cell_type": "code",
   "execution_count": 2,
   "metadata": {},
   "outputs": [],
   "source": [
    "def exprand(lambdr): # Função responsável por gerar os números aleatórios por ordem de chegada\n",
    "    return -math.log(1.0 - random.random()) / lambdr"
   ]
  },
  {
   "cell_type": "code",
   "execution_count": 3,
   "metadata": {},
   "outputs": [],
   "source": [
    "tempo_chegada = [exprand(0.2)*4 for _ in range(100)] # Gerados 100 números aleatórios\n",
    "test = [exprand(0.2) for _ in range(50)] # "
   ]
  },
  {
   "cell_type": "code",
   "execution_count": 43,
   "metadata": {},
   "outputs": [
    {
     "data": {
      "text/plain": [
       "[16.149100584615326,\n",
       " 28.604373987185408,\n",
       " 0.2989089466158909,\n",
       " 2.1110715145663788,\n",
       " 12.603376044757876,\n",
       " 32.758842774814255,\n",
       " 5.719832565550319,\n",
       " 33.10352320430335,\n",
       " 19.308262250213126,\n",
       " 0.07638853112406417,\n",
       " 22.26933349456284,\n",
       " 17.984351102677483,\n",
       " 6.293638454654629,\n",
       " 14.547705690391084,\n",
       " 59.455493345604225,\n",
       " 1.878726505977815,\n",
       " 14.855328163955656,\n",
       " 4.239380609526048,\n",
       " 5.632626740616963,\n",
       " 9.356279188511044,\n",
       " 41.5430780517093,\n",
       " 3.3257381941338093,\n",
       " 27.69023409694761,\n",
       " 62.98538692346251,\n",
       " 25.788197942840345,\n",
       " 15.025432961794866,\n",
       " 3.0789096521697177,\n",
       " 23.058761186693566,\n",
       " 17.150769664589028,\n",
       " 15.94226091234755,\n",
       " 48.86468713939976,\n",
       " 16.914789119837977,\n",
       " 0.0899027762212333,\n",
       " 30.558985690354586,\n",
       " 27.024297505903448,\n",
       " 78.9569208989876,\n",
       " 7.9046226430590565,\n",
       " 35.74803428443898,\n",
       " 17.903280689640535,\n",
       " 4.439449975552478,\n",
       " 84.57276826906558,\n",
       " 65.04938811024384,\n",
       " 30.77440563302191,\n",
       " 3.3960962814020417,\n",
       " 4.006970008683378,\n",
       " 41.69494271028125,\n",
       " 1.9646333318268878,\n",
       " 20.44284469134242,\n",
       " 25.566348216621652,\n",
       " 25.620024620880546,\n",
       " 2.4922067503942027,\n",
       " 36.32468215940918,\n",
       " 45.57450070437921,\n",
       " 10.781428503804685,\n",
       " 10.794005380236582,\n",
       " 32.503933094630085,\n",
       " 12.458277158765512,\n",
       " 17.51969911506474,\n",
       " 44.533642617186736,\n",
       " 19.441425440829477,\n",
       " 5.375147990889484,\n",
       " 8.99855880392929,\n",
       " 40.07505432616136,\n",
       " 4.798393472923008,\n",
       " 0.3942242299728392,\n",
       " 58.997709540565964,\n",
       " 14.056610577771105,\n",
       " 23.354023977372098,\n",
       " 4.380823897879316,\n",
       " 2.4616684168001304,\n",
       " 88.79258720764923,\n",
       " 39.91400960095981,\n",
       " 4.077453206021004,\n",
       " 10.169076969230899,\n",
       " 15.464225893513502,\n",
       " 13.937676074064164,\n",
       " 6.61212728326388,\n",
       " 14.83410098300772,\n",
       " 15.447614648722174,\n",
       " 3.9535104554360068,\n",
       " 5.641183711910168,\n",
       " 46.72828852135028,\n",
       " 2.43383538921917,\n",
       " 35.46078068295036,\n",
       " 3.877896824340673,\n",
       " 1.3233648980688353,\n",
       " 2.8222236591255254,\n",
       " 12.321307149798413,\n",
       " 11.301680822329171,\n",
       " 38.64106914806199,\n",
       " 2.5853423612272683,\n",
       " 6.790345939527157,\n",
       " 11.387123823546698,\n",
       " 9.60714135380655,\n",
       " 9.29754726840829,\n",
       " 23.3983317541244,\n",
       " 25.192019724550274,\n",
       " 40.31845875815409,\n",
       " 0.3406537894394121,\n",
       " 23.06278447019265]"
      ]
     },
     "execution_count": 43,
     "metadata": {},
     "output_type": "execute_result"
    }
   ],
   "source": [
    "tempo_chegada"
   ]
  },
  {
   "cell_type": "code",
   "execution_count": 41,
   "metadata": {},
   "outputs": [],
   "source": [
    "dff = pd.DataFrame(data={\"tempo_chegada\": tempo_chegada})"
   ]
  },
  {
   "cell_type": "code",
   "execution_count": 42,
   "metadata": {},
   "outputs": [
    {
     "data": {
      "text/html": [
       "<div>\n",
       "<style scoped>\n",
       "    .dataframe tbody tr th:only-of-type {\n",
       "        vertical-align: middle;\n",
       "    }\n",
       "\n",
       "    .dataframe tbody tr th {\n",
       "        vertical-align: top;\n",
       "    }\n",
       "\n",
       "    .dataframe thead th {\n",
       "        text-align: right;\n",
       "    }\n",
       "</style>\n",
       "<table border=\"1\" class=\"dataframe\">\n",
       "  <thead>\n",
       "    <tr style=\"text-align: right;\">\n",
       "      <th></th>\n",
       "      <th>tempo_chegada</th>\n",
       "    </tr>\n",
       "  </thead>\n",
       "  <tbody>\n",
       "    <tr>\n",
       "      <th>0</th>\n",
       "      <td>16.149101</td>\n",
       "    </tr>\n",
       "    <tr>\n",
       "      <th>1</th>\n",
       "      <td>28.604374</td>\n",
       "    </tr>\n",
       "    <tr>\n",
       "      <th>2</th>\n",
       "      <td>0.298909</td>\n",
       "    </tr>\n",
       "    <tr>\n",
       "      <th>3</th>\n",
       "      <td>2.111072</td>\n",
       "    </tr>\n",
       "    <tr>\n",
       "      <th>4</th>\n",
       "      <td>12.603376</td>\n",
       "    </tr>\n",
       "    <tr>\n",
       "      <th>5</th>\n",
       "      <td>32.758843</td>\n",
       "    </tr>\n",
       "    <tr>\n",
       "      <th>6</th>\n",
       "      <td>5.719833</td>\n",
       "    </tr>\n",
       "    <tr>\n",
       "      <th>7</th>\n",
       "      <td>33.103523</td>\n",
       "    </tr>\n",
       "    <tr>\n",
       "      <th>8</th>\n",
       "      <td>19.308262</td>\n",
       "    </tr>\n",
       "    <tr>\n",
       "      <th>9</th>\n",
       "      <td>0.076389</td>\n",
       "    </tr>\n",
       "    <tr>\n",
       "      <th>10</th>\n",
       "      <td>22.269333</td>\n",
       "    </tr>\n",
       "    <tr>\n",
       "      <th>11</th>\n",
       "      <td>17.984351</td>\n",
       "    </tr>\n",
       "    <tr>\n",
       "      <th>12</th>\n",
       "      <td>6.293638</td>\n",
       "    </tr>\n",
       "    <tr>\n",
       "      <th>13</th>\n",
       "      <td>14.547706</td>\n",
       "    </tr>\n",
       "    <tr>\n",
       "      <th>14</th>\n",
       "      <td>59.455493</td>\n",
       "    </tr>\n",
       "    <tr>\n",
       "      <th>15</th>\n",
       "      <td>1.878727</td>\n",
       "    </tr>\n",
       "    <tr>\n",
       "      <th>16</th>\n",
       "      <td>14.855328</td>\n",
       "    </tr>\n",
       "    <tr>\n",
       "      <th>17</th>\n",
       "      <td>4.239381</td>\n",
       "    </tr>\n",
       "    <tr>\n",
       "      <th>18</th>\n",
       "      <td>5.632627</td>\n",
       "    </tr>\n",
       "    <tr>\n",
       "      <th>19</th>\n",
       "      <td>9.356279</td>\n",
       "    </tr>\n",
       "    <tr>\n",
       "      <th>20</th>\n",
       "      <td>41.543078</td>\n",
       "    </tr>\n",
       "    <tr>\n",
       "      <th>21</th>\n",
       "      <td>3.325738</td>\n",
       "    </tr>\n",
       "    <tr>\n",
       "      <th>22</th>\n",
       "      <td>27.690234</td>\n",
       "    </tr>\n",
       "    <tr>\n",
       "      <th>23</th>\n",
       "      <td>62.985387</td>\n",
       "    </tr>\n",
       "    <tr>\n",
       "      <th>24</th>\n",
       "      <td>25.788198</td>\n",
       "    </tr>\n",
       "    <tr>\n",
       "      <th>25</th>\n",
       "      <td>15.025433</td>\n",
       "    </tr>\n",
       "    <tr>\n",
       "      <th>26</th>\n",
       "      <td>3.078910</td>\n",
       "    </tr>\n",
       "    <tr>\n",
       "      <th>27</th>\n",
       "      <td>23.058761</td>\n",
       "    </tr>\n",
       "    <tr>\n",
       "      <th>28</th>\n",
       "      <td>17.150770</td>\n",
       "    </tr>\n",
       "    <tr>\n",
       "      <th>29</th>\n",
       "      <td>15.942261</td>\n",
       "    </tr>\n",
       "    <tr>\n",
       "      <th>...</th>\n",
       "      <td>...</td>\n",
       "    </tr>\n",
       "    <tr>\n",
       "      <th>70</th>\n",
       "      <td>88.792587</td>\n",
       "    </tr>\n",
       "    <tr>\n",
       "      <th>71</th>\n",
       "      <td>39.914010</td>\n",
       "    </tr>\n",
       "    <tr>\n",
       "      <th>72</th>\n",
       "      <td>4.077453</td>\n",
       "    </tr>\n",
       "    <tr>\n",
       "      <th>73</th>\n",
       "      <td>10.169077</td>\n",
       "    </tr>\n",
       "    <tr>\n",
       "      <th>74</th>\n",
       "      <td>15.464226</td>\n",
       "    </tr>\n",
       "    <tr>\n",
       "      <th>75</th>\n",
       "      <td>13.937676</td>\n",
       "    </tr>\n",
       "    <tr>\n",
       "      <th>76</th>\n",
       "      <td>6.612127</td>\n",
       "    </tr>\n",
       "    <tr>\n",
       "      <th>77</th>\n",
       "      <td>14.834101</td>\n",
       "    </tr>\n",
       "    <tr>\n",
       "      <th>78</th>\n",
       "      <td>15.447615</td>\n",
       "    </tr>\n",
       "    <tr>\n",
       "      <th>79</th>\n",
       "      <td>3.953510</td>\n",
       "    </tr>\n",
       "    <tr>\n",
       "      <th>80</th>\n",
       "      <td>5.641184</td>\n",
       "    </tr>\n",
       "    <tr>\n",
       "      <th>81</th>\n",
       "      <td>46.728289</td>\n",
       "    </tr>\n",
       "    <tr>\n",
       "      <th>82</th>\n",
       "      <td>2.433835</td>\n",
       "    </tr>\n",
       "    <tr>\n",
       "      <th>83</th>\n",
       "      <td>35.460781</td>\n",
       "    </tr>\n",
       "    <tr>\n",
       "      <th>84</th>\n",
       "      <td>3.877897</td>\n",
       "    </tr>\n",
       "    <tr>\n",
       "      <th>85</th>\n",
       "      <td>1.323365</td>\n",
       "    </tr>\n",
       "    <tr>\n",
       "      <th>86</th>\n",
       "      <td>2.822224</td>\n",
       "    </tr>\n",
       "    <tr>\n",
       "      <th>87</th>\n",
       "      <td>12.321307</td>\n",
       "    </tr>\n",
       "    <tr>\n",
       "      <th>88</th>\n",
       "      <td>11.301681</td>\n",
       "    </tr>\n",
       "    <tr>\n",
       "      <th>89</th>\n",
       "      <td>38.641069</td>\n",
       "    </tr>\n",
       "    <tr>\n",
       "      <th>90</th>\n",
       "      <td>2.585342</td>\n",
       "    </tr>\n",
       "    <tr>\n",
       "      <th>91</th>\n",
       "      <td>6.790346</td>\n",
       "    </tr>\n",
       "    <tr>\n",
       "      <th>92</th>\n",
       "      <td>11.387124</td>\n",
       "    </tr>\n",
       "    <tr>\n",
       "      <th>93</th>\n",
       "      <td>9.607141</td>\n",
       "    </tr>\n",
       "    <tr>\n",
       "      <th>94</th>\n",
       "      <td>9.297547</td>\n",
       "    </tr>\n",
       "    <tr>\n",
       "      <th>95</th>\n",
       "      <td>23.398332</td>\n",
       "    </tr>\n",
       "    <tr>\n",
       "      <th>96</th>\n",
       "      <td>25.192020</td>\n",
       "    </tr>\n",
       "    <tr>\n",
       "      <th>97</th>\n",
       "      <td>40.318459</td>\n",
       "    </tr>\n",
       "    <tr>\n",
       "      <th>98</th>\n",
       "      <td>0.340654</td>\n",
       "    </tr>\n",
       "    <tr>\n",
       "      <th>99</th>\n",
       "      <td>23.062784</td>\n",
       "    </tr>\n",
       "  </tbody>\n",
       "</table>\n",
       "<p>100 rows × 1 columns</p>\n",
       "</div>"
      ],
      "text/plain": [
       "    tempo_chegada\n",
       "0       16.149101\n",
       "1       28.604374\n",
       "2        0.298909\n",
       "3        2.111072\n",
       "4       12.603376\n",
       "5       32.758843\n",
       "6        5.719833\n",
       "7       33.103523\n",
       "8       19.308262\n",
       "9        0.076389\n",
       "10      22.269333\n",
       "11      17.984351\n",
       "12       6.293638\n",
       "13      14.547706\n",
       "14      59.455493\n",
       "15       1.878727\n",
       "16      14.855328\n",
       "17       4.239381\n",
       "18       5.632627\n",
       "19       9.356279\n",
       "20      41.543078\n",
       "21       3.325738\n",
       "22      27.690234\n",
       "23      62.985387\n",
       "24      25.788198\n",
       "25      15.025433\n",
       "26       3.078910\n",
       "27      23.058761\n",
       "28      17.150770\n",
       "29      15.942261\n",
       "..            ...\n",
       "70      88.792587\n",
       "71      39.914010\n",
       "72       4.077453\n",
       "73      10.169077\n",
       "74      15.464226\n",
       "75      13.937676\n",
       "76       6.612127\n",
       "77      14.834101\n",
       "78      15.447615\n",
       "79       3.953510\n",
       "80       5.641184\n",
       "81      46.728289\n",
       "82       2.433835\n",
       "83      35.460781\n",
       "84       3.877897\n",
       "85       1.323365\n",
       "86       2.822224\n",
       "87      12.321307\n",
       "88      11.301681\n",
       "89      38.641069\n",
       "90       2.585342\n",
       "91       6.790346\n",
       "92      11.387124\n",
       "93       9.607141\n",
       "94       9.297547\n",
       "95      23.398332\n",
       "96      25.192020\n",
       "97      40.318459\n",
       "98       0.340654\n",
       "99      23.062784\n",
       "\n",
       "[100 rows x 1 columns]"
      ]
     },
     "execution_count": 42,
     "metadata": {},
     "output_type": "execute_result"
    }
   ],
   "source": []
  },
  {
   "cell_type": "code",
   "execution_count": 44,
   "metadata": {},
   "outputs": [],
   "source": [
    "import seaborn as sns"
   ]
  },
  {
   "cell_type": "code",
   "execution_count": null,
   "metadata": {},
   "outputs": [],
   "source": [
    "sns.barplot()"
   ]
  },
  {
   "cell_type": "code",
   "execution_count": 4,
   "metadata": {},
   "outputs": [],
   "source": [
    "step = 10\n",
    "intervals = [[i, i+step] for i in range(0, 100, step)] # Gerados os intervalos"
   ]
  },
  {
   "cell_type": "code",
   "execution_count": 5,
   "metadata": {},
   "outputs": [
    {
     "data": {
      "text/plain": [
       "[[0, 10],\n",
       " [10, 20],\n",
       " [20, 30],\n",
       " [30, 40],\n",
       " [40, 50],\n",
       " [50, 60],\n",
       " [60, 70],\n",
       " [70, 80],\n",
       " [80, 90],\n",
       " [90, 100]]"
      ]
     },
     "execution_count": 5,
     "metadata": {},
     "output_type": "execute_result"
    }
   ],
   "source": [
    "intervals"
   ]
  },
  {
   "cell_type": "code",
   "execution_count": 35,
   "metadata": {},
   "outputs": [
    {
     "data": {
      "text/plain": [
       "[[0.2989089466158909,\n",
       "  2.1110715145663788,\n",
       "  5.719832565550319,\n",
       "  0.07638853112406417,\n",
       "  6.293638454654629,\n",
       "  1.878726505977815,\n",
       "  4.239380609526048,\n",
       "  5.632626740616963,\n",
       "  9.356279188511044,\n",
       "  3.3257381941338093,\n",
       "  3.0789096521697177,\n",
       "  0.0899027762212333,\n",
       "  7.9046226430590565,\n",
       "  4.439449975552478,\n",
       "  3.3960962814020417,\n",
       "  4.006970008683378,\n",
       "  1.9646333318268878,\n",
       "  2.4922067503942027,\n",
       "  5.375147990889484,\n",
       "  8.99855880392929,\n",
       "  4.798393472923008,\n",
       "  0.3942242299728392,\n",
       "  4.380823897879316,\n",
       "  2.4616684168001304,\n",
       "  4.077453206021004,\n",
       "  6.61212728326388,\n",
       "  3.9535104554360068,\n",
       "  5.641183711910168,\n",
       "  2.43383538921917,\n",
       "  3.877896824340673,\n",
       "  1.3233648980688353,\n",
       "  2.8222236591255254,\n",
       "  2.5853423612272683,\n",
       "  6.790345939527157,\n",
       "  9.60714135380655,\n",
       "  9.29754726840829,\n",
       "  0.3406537894394121]]"
      ]
     },
     "execution_count": 35,
     "metadata": {},
     "output_type": "execute_result"
    }
   ],
   "source": [
    "data_intervals = [] # Valores separados por intervalos\n",
    "for interval in intervals:\n",
    "    data_intervals.append([x for x in tempo_chegada if x >= interval[0] and x <= interval[1]])\n",
    "    \n",
    "data_intervals[:1] # 10 valores de amostra"
   ]
  },
  {
   "cell_type": "code",
   "execution_count": null,
   "metadata": {},
   "outputs": [],
   "source": []
  },
  {
   "cell_type": "code",
   "execution_count": 7,
   "metadata": {},
   "outputs": [
    {
     "data": {
      "text/plain": [
       "[<matplotlib.lines.Line2D at 0x11452da58>]"
      ]
     },
     "execution_count": 7,
     "metadata": {},
     "output_type": "execute_result"
    },
    {
     "data": {
      "image/png": "[encoded data removed]",
      "text/plain": [
       "<matplotlib.figure.Figure at 0x1144da240>"
      ]
     },
     "metadata": {},
     "output_type": "display_data"
    }
   ],
   "source": [
    "plt.plot(tempo_chegada) #Flutuação do tempo de chegada"
   ]
  },
  {
   "cell_type": "code",
   "execution_count": 8,
   "metadata": {},
   "outputs": [
    {
     "name": "stdout",
     "output_type": "stream",
     "text": [
      "[37, 25, 13, 10, 8, 2, 2, 1, 2, 0]\n"
     ]
    }
   ],
   "source": [
    "count_data_intervals = [] \n",
    "\n",
    "for interval in data_intervals:\n",
    "    count_data_intervals.append(len(interval))\n",
    "    \n",
    "print(count_data_intervals) # Conta dados por intervalo"
   ]
  },
  {
   "cell_type": "code",
   "execution_count": 9,
   "metadata": {},
   "outputs": [
    {
     "name": "stdout",
     "output_type": "stream",
     "text": [
      "[5.0, 15.0, 25.0, 35.0, 45.0, 55.0, 65.0, 75.0, 85.0, 95.0]\n"
     ]
    }
   ],
   "source": [
    "middle_data_intervals = []\n",
    "\n",
    "for interval in intervals:\n",
    "    middle_data_intervals.append(sum(interval)/2)\n",
    "\n",
    "print(middle_data_intervals) # Valor médio de cada intervalo"
   ]
  },
  {
   "cell_type": "code",
   "execution_count": 10,
   "metadata": {},
   "outputs": [],
   "source": [
    "df = pd.DataFrame(data={\"classes\": intervals, \"ponto_medio\": middle_data_intervals, \"observacoes\": count_data_intervals})"
   ]
  },
  {
   "cell_type": "code",
   "execution_count": 11,
   "metadata": {},
   "outputs": [
    {
     "data": {
      "text/html": [
       "<div>\n",
       "<style scoped>\n",
       "    .dataframe tbody tr th:only-of-type {\n",
       "        vertical-align: middle;\n",
       "    }\n",
       "\n",
       "    .dataframe tbody tr th {\n",
       "        vertical-align: top;\n",
       "    }\n",
       "\n",
       "    .dataframe thead th {\n",
       "        text-align: right;\n",
       "    }\n",
       "</style>\n",
       "<table border=\"1\" class=\"dataframe\">\n",
       "  <thead>\n",
       "    <tr style=\"text-align: right;\">\n",
       "      <th></th>\n",
       "      <th>classes</th>\n",
       "      <th>observacoes</th>\n",
       "      <th>ponto_medio</th>\n",
       "    </tr>\n",
       "  </thead>\n",
       "  <tbody>\n",
       "    <tr>\n",
       "      <th>0</th>\n",
       "      <td>[0, 10]</td>\n",
       "      <td>37</td>\n",
       "      <td>5.0</td>\n",
       "    </tr>\n",
       "    <tr>\n",
       "      <th>1</th>\n",
       "      <td>[10, 20]</td>\n",
       "      <td>25</td>\n",
       "      <td>15.0</td>\n",
       "    </tr>\n",
       "    <tr>\n",
       "      <th>2</th>\n",
       "      <td>[20, 30]</td>\n",
       "      <td>13</td>\n",
       "      <td>25.0</td>\n",
       "    </tr>\n",
       "    <tr>\n",
       "      <th>3</th>\n",
       "      <td>[30, 40]</td>\n",
       "      <td>10</td>\n",
       "      <td>35.0</td>\n",
       "    </tr>\n",
       "    <tr>\n",
       "      <th>4</th>\n",
       "      <td>[40, 50]</td>\n",
       "      <td>8</td>\n",
       "      <td>45.0</td>\n",
       "    </tr>\n",
       "  </tbody>\n",
       "</table>\n",
       "</div>"
      ],
      "text/plain": [
       "    classes  observacoes  ponto_medio\n",
       "0   [0, 10]           37          5.0\n",
       "1  [10, 20]           25         15.0\n",
       "2  [20, 30]           13         25.0\n",
       "3  [30, 40]           10         35.0\n",
       "4  [40, 50]            8         45.0"
      ]
     },
     "execution_count": 11,
     "metadata": {},
     "output_type": "execute_result"
    }
   ],
   "source": [
    "df.head()"
   ]
  },
  {
   "cell_type": "code",
   "execution_count": 12,
   "metadata": {},
   "outputs": [],
   "source": [
    "df['frequencia'] = df['observacoes']/100 # Gera a coluna de frequencia"
   ]
  },
  {
   "cell_type": "code",
   "execution_count": 13,
   "metadata": {},
   "outputs": [
    {
     "data": {
      "text/html": [
       "<div>\n",
       "<style scoped>\n",
       "    .dataframe tbody tr th:only-of-type {\n",
       "        vertical-align: middle;\n",
       "    }\n",
       "\n",
       "    .dataframe tbody tr th {\n",
       "        vertical-align: top;\n",
       "    }\n",
       "\n",
       "    .dataframe thead th {\n",
       "        text-align: right;\n",
       "    }\n",
       "</style>\n",
       "<table border=\"1\" class=\"dataframe\">\n",
       "  <thead>\n",
       "    <tr style=\"text-align: right;\">\n",
       "      <th></th>\n",
       "      <th>classes</th>\n",
       "      <th>observacoes</th>\n",
       "      <th>ponto_medio</th>\n",
       "      <th>frequencia</th>\n",
       "    </tr>\n",
       "  </thead>\n",
       "  <tbody>\n",
       "    <tr>\n",
       "      <th>0</th>\n",
       "      <td>[0, 10]</td>\n",
       "      <td>37</td>\n",
       "      <td>5.0</td>\n",
       "      <td>0.37</td>\n",
       "    </tr>\n",
       "    <tr>\n",
       "      <th>1</th>\n",
       "      <td>[10, 20]</td>\n",
       "      <td>25</td>\n",
       "      <td>15.0</td>\n",
       "      <td>0.25</td>\n",
       "    </tr>\n",
       "    <tr>\n",
       "      <th>2</th>\n",
       "      <td>[20, 30]</td>\n",
       "      <td>13</td>\n",
       "      <td>25.0</td>\n",
       "      <td>0.13</td>\n",
       "    </tr>\n",
       "    <tr>\n",
       "      <th>3</th>\n",
       "      <td>[30, 40]</td>\n",
       "      <td>10</td>\n",
       "      <td>35.0</td>\n",
       "      <td>0.10</td>\n",
       "    </tr>\n",
       "    <tr>\n",
       "      <th>4</th>\n",
       "      <td>[40, 50]</td>\n",
       "      <td>8</td>\n",
       "      <td>45.0</td>\n",
       "      <td>0.08</td>\n",
       "    </tr>\n",
       "  </tbody>\n",
       "</table>\n",
       "</div>"
      ],
      "text/plain": [
       "    classes  observacoes  ponto_medio  frequencia\n",
       "0   [0, 10]           37          5.0        0.37\n",
       "1  [10, 20]           25         15.0        0.25\n",
       "2  [20, 30]           13         25.0        0.13\n",
       "3  [30, 40]           10         35.0        0.10\n",
       "4  [40, 50]            8         45.0        0.08"
      ]
     },
     "execution_count": 13,
     "metadata": {},
     "output_type": "execute_result"
    }
   ],
   "source": [
    "df.head()"
   ]
  },
  {
   "cell_type": "code",
   "execution_count": 14,
   "metadata": {},
   "outputs": [],
   "source": [
    "df['frequencia_acumulada'] = [sum(df['frequencia'][0:i+1]) for i in range(len(df['frequencia']))]\n",
    "# Gera a coluna de frequencia acumulada"
   ]
  },
  {
   "cell_type": "code",
   "execution_count": 15,
   "metadata": {},
   "outputs": [
    {
     "data": {
      "text/html": [
       "<div>\n",
       "<style scoped>\n",
       "    .dataframe tbody tr th:only-of-type {\n",
       "        vertical-align: middle;\n",
       "    }\n",
       "\n",
       "    .dataframe tbody tr th {\n",
       "        vertical-align: top;\n",
       "    }\n",
       "\n",
       "    .dataframe thead th {\n",
       "        text-align: right;\n",
       "    }\n",
       "</style>\n",
       "<table border=\"1\" class=\"dataframe\">\n",
       "  <thead>\n",
       "    <tr style=\"text-align: right;\">\n",
       "      <th></th>\n",
       "      <th>classes</th>\n",
       "      <th>observacoes</th>\n",
       "      <th>ponto_medio</th>\n",
       "      <th>frequencia</th>\n",
       "      <th>frequencia_acumulada</th>\n",
       "    </tr>\n",
       "  </thead>\n",
       "  <tbody>\n",
       "    <tr>\n",
       "      <th>0</th>\n",
       "      <td>[0, 10]</td>\n",
       "      <td>37</td>\n",
       "      <td>5.0</td>\n",
       "      <td>0.37</td>\n",
       "      <td>0.37</td>\n",
       "    </tr>\n",
       "    <tr>\n",
       "      <th>1</th>\n",
       "      <td>[10, 20]</td>\n",
       "      <td>25</td>\n",
       "      <td>15.0</td>\n",
       "      <td>0.25</td>\n",
       "      <td>0.62</td>\n",
       "    </tr>\n",
       "    <tr>\n",
       "      <th>2</th>\n",
       "      <td>[20, 30]</td>\n",
       "      <td>13</td>\n",
       "      <td>25.0</td>\n",
       "      <td>0.13</td>\n",
       "      <td>0.75</td>\n",
       "    </tr>\n",
       "    <tr>\n",
       "      <th>3</th>\n",
       "      <td>[30, 40]</td>\n",
       "      <td>10</td>\n",
       "      <td>35.0</td>\n",
       "      <td>0.10</td>\n",
       "      <td>0.85</td>\n",
       "    </tr>\n",
       "    <tr>\n",
       "      <th>4</th>\n",
       "      <td>[40, 50]</td>\n",
       "      <td>8</td>\n",
       "      <td>45.0</td>\n",
       "      <td>0.08</td>\n",
       "      <td>0.93</td>\n",
       "    </tr>\n",
       "    <tr>\n",
       "      <th>5</th>\n",
       "      <td>[50, 60]</td>\n",
       "      <td>2</td>\n",
       "      <td>55.0</td>\n",
       "      <td>0.02</td>\n",
       "      <td>0.95</td>\n",
       "    </tr>\n",
       "    <tr>\n",
       "      <th>6</th>\n",
       "      <td>[60, 70]</td>\n",
       "      <td>2</td>\n",
       "      <td>65.0</td>\n",
       "      <td>0.02</td>\n",
       "      <td>0.97</td>\n",
       "    </tr>\n",
       "    <tr>\n",
       "      <th>7</th>\n",
       "      <td>[70, 80]</td>\n",
       "      <td>1</td>\n",
       "      <td>75.0</td>\n",
       "      <td>0.01</td>\n",
       "      <td>0.98</td>\n",
       "    </tr>\n",
       "    <tr>\n",
       "      <th>8</th>\n",
       "      <td>[80, 90]</td>\n",
       "      <td>2</td>\n",
       "      <td>85.0</td>\n",
       "      <td>0.02</td>\n",
       "      <td>1.00</td>\n",
       "    </tr>\n",
       "    <tr>\n",
       "      <th>9</th>\n",
       "      <td>[90, 100]</td>\n",
       "      <td>0</td>\n",
       "      <td>95.0</td>\n",
       "      <td>0.00</td>\n",
       "      <td>1.00</td>\n",
       "    </tr>\n",
       "  </tbody>\n",
       "</table>\n",
       "</div>"
      ],
      "text/plain": [
       "     classes  observacoes  ponto_medio  frequencia  frequencia_acumulada\n",
       "0    [0, 10]           37          5.0        0.37                  0.37\n",
       "1   [10, 20]           25         15.0        0.25                  0.62\n",
       "2   [20, 30]           13         25.0        0.13                  0.75\n",
       "3   [30, 40]           10         35.0        0.10                  0.85\n",
       "4   [40, 50]            8         45.0        0.08                  0.93\n",
       "5   [50, 60]            2         55.0        0.02                  0.95\n",
       "6   [60, 70]            2         65.0        0.02                  0.97\n",
       "7   [70, 80]            1         75.0        0.01                  0.98\n",
       "8   [80, 90]            2         85.0        0.02                  1.00\n",
       "9  [90, 100]            0         95.0        0.00                  1.00"
      ]
     },
     "execution_count": 15,
     "metadata": {},
     "output_type": "execute_result"
    }
   ],
   "source": [
    "df"
   ]
  },
  {
   "cell_type": "code",
   "execution_count": 16,
   "metadata": {},
   "outputs": [],
   "source": [
    "frequencia_intervalo = []\n",
    "for i in range(len(df['frequencia_acumulada'])):\n",
    "    if(i==0): \n",
    "        frequencia_intervalo.append([0, df['frequencia_acumulada'][i]])\n",
    "    else: \n",
    "        frequencia_intervalo.append([df['frequencia_acumulada'][i-1], df['frequencia_acumulada'][i]])\n",
    "    "
   ]
  },
  {
   "cell_type": "code",
   "execution_count": 17,
   "metadata": {},
   "outputs": [
    {
     "data": {
      "text/plain": [
       "[[0, 0.37],\n",
       " [0.37, 0.62],\n",
       " [0.62, 0.75],\n",
       " [0.75, 0.85],\n",
       " [0.85, 0.9299999999999999],\n",
       " [0.9299999999999999, 0.95],\n",
       " [0.95, 0.97],\n",
       " [0.97, 0.98],\n",
       " [0.98, 1.0],\n",
       " [1.0, 1.0]]"
      ]
     },
     "execution_count": 17,
     "metadata": {},
     "output_type": "execute_result"
    }
   ],
   "source": [
    "frequencia_intervalo # Mostra o intervalo de frequencias"
   ]
  },
  {
   "cell_type": "code",
   "execution_count": 18,
   "metadata": {},
   "outputs": [],
   "source": [
    "df['frequencia_intervalo'] = frequencia_intervalo # Gera a coluna de intervalos de frequencia"
   ]
  },
  {
   "cell_type": "code",
   "execution_count": 19,
   "metadata": {},
   "outputs": [
    {
     "data": {
      "text/html": [
       "<div>\n",
       "<style scoped>\n",
       "    .dataframe tbody tr th:only-of-type {\n",
       "        vertical-align: middle;\n",
       "    }\n",
       "\n",
       "    .dataframe tbody tr th {\n",
       "        vertical-align: top;\n",
       "    }\n",
       "\n",
       "    .dataframe thead th {\n",
       "        text-align: right;\n",
       "    }\n",
       "</style>\n",
       "<table border=\"1\" class=\"dataframe\">\n",
       "  <thead>\n",
       "    <tr style=\"text-align: right;\">\n",
       "      <th></th>\n",
       "      <th>classes</th>\n",
       "      <th>observacoes</th>\n",
       "      <th>ponto_medio</th>\n",
       "      <th>frequencia</th>\n",
       "      <th>frequencia_acumulada</th>\n",
       "      <th>frequencia_intervalo</th>\n",
       "    </tr>\n",
       "  </thead>\n",
       "  <tbody>\n",
       "    <tr>\n",
       "      <th>0</th>\n",
       "      <td>[0, 10]</td>\n",
       "      <td>37</td>\n",
       "      <td>5.0</td>\n",
       "      <td>0.37</td>\n",
       "      <td>0.37</td>\n",
       "      <td>[0, 0.37]</td>\n",
       "    </tr>\n",
       "    <tr>\n",
       "      <th>1</th>\n",
       "      <td>[10, 20]</td>\n",
       "      <td>25</td>\n",
       "      <td>15.0</td>\n",
       "      <td>0.25</td>\n",
       "      <td>0.62</td>\n",
       "      <td>[0.37, 0.62]</td>\n",
       "    </tr>\n",
       "    <tr>\n",
       "      <th>2</th>\n",
       "      <td>[20, 30]</td>\n",
       "      <td>13</td>\n",
       "      <td>25.0</td>\n",
       "      <td>0.13</td>\n",
       "      <td>0.75</td>\n",
       "      <td>[0.62, 0.75]</td>\n",
       "    </tr>\n",
       "    <tr>\n",
       "      <th>3</th>\n",
       "      <td>[30, 40]</td>\n",
       "      <td>10</td>\n",
       "      <td>35.0</td>\n",
       "      <td>0.10</td>\n",
       "      <td>0.85</td>\n",
       "      <td>[0.75, 0.85]</td>\n",
       "    </tr>\n",
       "    <tr>\n",
       "      <th>4</th>\n",
       "      <td>[40, 50]</td>\n",
       "      <td>8</td>\n",
       "      <td>45.0</td>\n",
       "      <td>0.08</td>\n",
       "      <td>0.93</td>\n",
       "      <td>[0.85, 0.9299999999999999]</td>\n",
       "    </tr>\n",
       "    <tr>\n",
       "      <th>5</th>\n",
       "      <td>[50, 60]</td>\n",
       "      <td>2</td>\n",
       "      <td>55.0</td>\n",
       "      <td>0.02</td>\n",
       "      <td>0.95</td>\n",
       "      <td>[0.9299999999999999, 0.95]</td>\n",
       "    </tr>\n",
       "    <tr>\n",
       "      <th>6</th>\n",
       "      <td>[60, 70]</td>\n",
       "      <td>2</td>\n",
       "      <td>65.0</td>\n",
       "      <td>0.02</td>\n",
       "      <td>0.97</td>\n",
       "      <td>[0.95, 0.97]</td>\n",
       "    </tr>\n",
       "    <tr>\n",
       "      <th>7</th>\n",
       "      <td>[70, 80]</td>\n",
       "      <td>1</td>\n",
       "      <td>75.0</td>\n",
       "      <td>0.01</td>\n",
       "      <td>0.98</td>\n",
       "      <td>[0.97, 0.98]</td>\n",
       "    </tr>\n",
       "    <tr>\n",
       "      <th>8</th>\n",
       "      <td>[80, 90]</td>\n",
       "      <td>2</td>\n",
       "      <td>85.0</td>\n",
       "      <td>0.02</td>\n",
       "      <td>1.00</td>\n",
       "      <td>[0.98, 1.0]</td>\n",
       "    </tr>\n",
       "    <tr>\n",
       "      <th>9</th>\n",
       "      <td>[90, 100]</td>\n",
       "      <td>0</td>\n",
       "      <td>95.0</td>\n",
       "      <td>0.00</td>\n",
       "      <td>1.00</td>\n",
       "      <td>[1.0, 1.0]</td>\n",
       "    </tr>\n",
       "  </tbody>\n",
       "</table>\n",
       "</div>"
      ],
      "text/plain": [
       "     classes  observacoes  ponto_medio  frequencia  frequencia_acumulada  \\\n",
       "0    [0, 10]           37          5.0        0.37                  0.37   \n",
       "1   [10, 20]           25         15.0        0.25                  0.62   \n",
       "2   [20, 30]           13         25.0        0.13                  0.75   \n",
       "3   [30, 40]           10         35.0        0.10                  0.85   \n",
       "4   [40, 50]            8         45.0        0.08                  0.93   \n",
       "5   [50, 60]            2         55.0        0.02                  0.95   \n",
       "6   [60, 70]            2         65.0        0.02                  0.97   \n",
       "7   [70, 80]            1         75.0        0.01                  0.98   \n",
       "8   [80, 90]            2         85.0        0.02                  1.00   \n",
       "9  [90, 100]            0         95.0        0.00                  1.00   \n",
       "\n",
       "         frequencia_intervalo  \n",
       "0                   [0, 0.37]  \n",
       "1                [0.37, 0.62]  \n",
       "2                [0.62, 0.75]  \n",
       "3                [0.75, 0.85]  \n",
       "4  [0.85, 0.9299999999999999]  \n",
       "5  [0.9299999999999999, 0.95]  \n",
       "6                [0.95, 0.97]  \n",
       "7                [0.97, 0.98]  \n",
       "8                 [0.98, 1.0]  \n",
       "9                  [1.0, 1.0]  "
      ]
     },
     "execution_count": 19,
     "metadata": {},
     "output_type": "execute_result"
    }
   ],
   "source": [
    "df"
   ]
  },
  {
   "cell_type": "code",
   "execution_count": 20,
   "metadata": {},
   "outputs": [
    {
     "data": {
      "text/plain": [
       "<matplotlib.axes._subplots.AxesSubplot at 0x114503da0>"
      ]
     },
     "execution_count": 20,
     "metadata": {},
     "output_type": "execute_result"
    },
    {
     "data": {
      "image/png": "[encoded data removed]",
      "text/plain": [
       "<matplotlib.figure.Figure at 0x114553400>"
      ]
     },
     "metadata": {},
     "output_type": "display_data"
    }
   ],
   "source": [
    "df['observacoes'].plot() # Plota o gráfico discretizados "
   ]
  },
  {
   "cell_type": "code",
   "execution_count": 21,
   "metadata": {},
   "outputs": [],
   "source": [
    "random_numbers = np.random.uniform(0, 1 , 100) \n",
    "# Gera 100 valores aleatórios entre 0 e 1"
   ]
  },
  {
   "cell_type": "code",
   "execution_count": 22,
   "metadata": {},
   "outputs": [
    {
     "data": {
      "text/plain": [
       "array([0.87530588, 0.33316902, 0.94413672, 0.41955805, 0.61134714,\n",
       "       0.95486128, 0.41048367, 0.8782884 , 0.049956  , 0.70151195])"
      ]
     },
     "execution_count": 22,
     "metadata": {},
     "output_type": "execute_result"
    }
   ],
   "source": [
    "random_numbers[:10] # amostra de 10 números dos 100"
   ]
  },
  {
   "cell_type": "code",
   "execution_count": 23,
   "metadata": {},
   "outputs": [],
   "source": [
    "tec = [] # gera os tecs relacionados aos números aleatórios\n",
    "for random_number in random_numbers:\n",
    "    tec.append([df['ponto_medio'][i] for i in range(len(df['frequencia_intervalo'])) if random_number >= df['frequencia_intervalo'][i][0] and random_number <= df['frequencia_intervalo'][i][1]])\n",
    "    "
   ]
  },
  {
   "cell_type": "code",
   "execution_count": 24,
   "metadata": {},
   "outputs": [
    {
     "data": {
      "text/plain": [
       "[[45.0], [5.0], [55.0], [15.0], [15.0], [65.0], [15.0], [45.0], [5.0], [25.0]]"
      ]
     },
     "execution_count": 24,
     "metadata": {},
     "output_type": "execute_result"
    }
   ],
   "source": [
    "tec[:10] # 10 valores de amostra"
   ]
  },
  {
   "cell_type": "code",
   "execution_count": 25,
   "metadata": {},
   "outputs": [],
   "source": [
    "unique, counts = np.unique(tec, return_counts=True)\n",
    "oc = list(zip(unique, counts)) # Conta os valores que apareceram decorrentes dos aleatórios"
   ]
  },
  {
   "cell_type": "code",
   "execution_count": 26,
   "metadata": {},
   "outputs": [
    {
     "data": {
      "text/plain": [
       "[array([ 5., 15., 25., 35., 45., 55., 65., 75.]),\n",
       " array([37, 22, 14, 11, 11,  3,  1,  1])]"
      ]
     },
     "execution_count": 26,
     "metadata": {},
     "output_type": "execute_result"
    }
   ],
   "source": [
    "[unique, counts]"
   ]
  },
  {
   "cell_type": "code",
   "execution_count": 27,
   "metadata": {},
   "outputs": [
    {
     "data": {
      "text/plain": [
       "[<matplotlib.lines.Line2D at 0x1146776d8>]"
      ]
     },
     "execution_count": 27,
     "metadata": {},
     "output_type": "execute_result"
    },
    {
     "data": {
      "image/png": "[encoded data removed]",
      "text/plain": [
       "<matplotlib.figure.Figure at 0x114619a20>"
      ]
     },
     "metadata": {},
     "output_type": "display_data"
    }
   ],
   "source": [
    "plt.plot(unique, counts) #plota o número de aparições de cada valor médio"
   ]
  },
  {
   "cell_type": "code",
   "execution_count": 28,
   "metadata": {},
   "outputs": [],
   "source": [
    "df.to_csv('22-03-2018.csv') # Gera o arquivo csv com a tabela (para entrega)"
   ]
  },
  {
   "cell_type": "code",
   "execution_count": 29,
   "metadata": {},
   "outputs": [
    {
     "data": {
      "text/plain": [
       "<matplotlib.legend.Legend at 0x1146e6438>"
      ]
     },
     "execution_count": 29,
     "metadata": {},
     "output_type": "execute_result"
    },
    {
     "data": {
      "image/png": "[encoded data removed]",
      "text/plain": [
       "<matplotlib.figure.Figure at 0x114680fd0>"
      ]
     },
     "metadata": {},
     "output_type": "display_data"
    }
   ],
   "source": [
    "plt.plot(df['ponto_medio'], df['observacoes'], label=\"Observações de entrada discretizadas\")\n",
    "plt.plot(unique, counts, label=\"Observações escolhidas randomicamente\")\n",
    "plt.legend()\n",
    "\n",
    "# Plota a diferença entre a distribuição discreta real (entrada) e a frequencia gerada\n",
    "# pela aparição de 100 números"
   ]
  },
  {
   "cell_type": "code",
   "execution_count": null,
   "metadata": {},
   "outputs": [],
   "source": []
  }
 ],
 "metadata": {
  "kernelspec": {
   "display_name": "Python 3",
   "language": "python",
   "name": "python3"
  },
  "language_info": {
   "codemirror_mode": {
    "name": "ipython",
    "version": 3
   },
   "file_extension": ".py",
   "mimetype": "text/x-python",
   "name": "python",
   "nbconvert_exporter": "python",
   "pygments_lexer": "ipython3",
   "version": "3.6.4"
  }
 },
 "nbformat": 4,
 "nbformat_minor": 2
}
