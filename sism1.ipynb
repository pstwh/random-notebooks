{
 "cells": [
  {
   "cell_type": "code",
   "execution_count": 1,
   "metadata": {},
   "outputs": [],
   "source": [
    "import numpy as np\n",
    "import pandas as pd\n",
    "import matplotlib.pyplot as plt\n",
    "import math\n",
    "import random"
   ]
  },
  {
   "cell_type": "code",
   "execution_count": 2,
   "metadata": {},
   "outputs": [],
   "source": [
    "def exprand(lambdr): # Função responsável por gerar os números aleatórios por ordem de chegada\n",
    "    return -math.log(1.0 - random.random()) / lambdr"
   ]
  },
  {
   "cell_type": "code",
   "execution_count": 3,
   "metadata": {},
   "outputs": [],
   "source": [
    "tempo_chegada = [exprand(0.2)*4 for _ in range(100)] # Gerados 100 números aleatórios\n",
    "test = [exprand(0.2) for _ in range(50)] # "
   ]
  },
  {
   "cell_type": "code",
   "execution_count": 4,
   "metadata": {},
   "outputs": [],
   "source": [
    "step = 10\n",
    "intervals = [[i, i+step] for i in range(0, 100, step)] # Gerados os intervalos"
   ]
  },
  {
   "cell_type": "code",
   "execution_count": 5,
   "metadata": {},
   "outputs": [
    {
     "data": {
      "text/plain": [
       "[[0, 10],\n",
       " [10, 20],\n",
       " [20, 30],\n",
       " [30, 40],\n",
       " [40, 50],\n",
       " [50, 60],\n",
       " [60, 70],\n",
       " [70, 80],\n",
       " [80, 90],\n",
       " [90, 100]]"
      ]
     },
     "execution_count": 5,
     "metadata": {},
     "output_type": "execute_result"
    }
   ],
   "source": [
    "intervals"
   ]
  },
  {
   "cell_type": "code",
   "execution_count": 6,
   "metadata": {},
   "outputs": [
    {
     "data": {
      "text/plain": [
       "[[2.738259420143852,\n",
       "  0.6096072938458271,\n",
       "  3.3964669314199525,\n",
       "  8.876970927824347,\n",
       "  0.47921500189756416,\n",
       "  8.009221499500946,\n",
       "  1.0152162518008359,\n",
       "  8.21308645587873,\n",
       "  5.438278541167383,\n",
       "  1.6144784501683225,\n",
       "  5.844384642977392,\n",
       "  1.6193639499187076,\n",
       "  8.162823460256252,\n",
       "  2.7401217003605387,\n",
       "  2.047971160751047,\n",
       "  5.38387982893459,\n",
       "  5.7882538427449814,\n",
       "  1.475608879168793,\n",
       "  9.072152424026035,\n",
       "  5.641431435589935,\n",
       "  7.848961784406382,\n",
       "  9.292192188960682,\n",
       "  6.502137674997358,\n",
       "  2.7077844221652585,\n",
       "  2.8936377057620724,\n",
       "  7.1722814592696436,\n",
       "  2.5403361629904655,\n",
       "  3.3634419752983855,\n",
       "  5.240832499661943,\n",
       "  2.314977492400185,\n",
       "  1.395079993260582,\n",
       "  2.4068226266150847,\n",
       "  7.1274263892109895,\n",
       "  8.3814318821325]]"
      ]
     },
     "execution_count": 6,
     "metadata": {},
     "output_type": "execute_result"
    }
   ],
   "source": [
    "data_intervals = [] # Valores separados por intervalos\n",
    "for interval in intervals:\n",
    "    data_intervals.append([x for x in tempo_chegada if x >= interval[0] and x <= interval[1]])\n",
    "    \n",
    "data_intervals[:1] # 10 valores de amostra"
   ]
  },
  {
   "cell_type": "code",
   "execution_count": 7,
   "metadata": {},
   "outputs": [
    {
     "data": {
      "text/plain": [
       "[<matplotlib.lines.Line2D at 0x1087050f0>]"
      ]
     },
     "execution_count": 7,
     "metadata": {},
     "output_type": "execute_result"
    },
    {
     "data": {
      "image/png": "[encoded data removed]",
      "text/plain": [
       "<matplotlib.figure.Figure at 0x1086aca58>"
      ]
     },
     "metadata": {},
     "output_type": "display_data"
    }
   ],
   "source": [
    "plt.plot(tempo_chegada) #Flutuação do tempo de chegada"
   ]
  },
  {
   "cell_type": "code",
   "execution_count": 8,
   "metadata": {},
   "outputs": [
    {
     "name": "stdout",
     "output_type": "stream",
     "text": [
      "[34, 31, 13, 8, 5, 2, 2, 4, 0, 1]\n"
     ]
    }
   ],
   "source": [
    "count_data_intervals = [] \n",
    "\n",
    "for interval in data_intervals:\n",
    "    count_data_intervals.append(len(interval))\n",
    "    \n",
    "print(count_data_intervals) # Conta dados por intervalo"
   ]
  },
  {
   "cell_type": "code",
   "execution_count": 9,
   "metadata": {},
   "outputs": [
    {
     "name": "stdout",
     "output_type": "stream",
     "text": [
      "[5.0, 15.0, 25.0, 35.0, 45.0, 55.0, 65.0, 75.0, 85.0, 95.0]\n"
     ]
    }
   ],
   "source": [
    "middle_data_intervals = []\n",
    "\n",
    "for interval in intervals:\n",
    "    middle_data_intervals.append(sum(interval)/2)\n",
    "\n",
    "print(middle_data_intervals) # Valor médio de cada intervalo"
   ]
  },
  {
   "cell_type": "code",
   "execution_count": 10,
   "metadata": {},
   "outputs": [],
   "source": [
    "df = pd.DataFrame(data={\"classes\": intervals, \"ponto_medio\": middle_data_intervals, \"observacoes\": count_data_intervals})"
   ]
  },
  {
   "cell_type": "code",
   "execution_count": 11,
   "metadata": {},
   "outputs": [
    {
     "data": {
      "text/html": [
       "<div>\n",
       "<style scoped>\n",
       "    .dataframe tbody tr th:only-of-type {\n",
       "        vertical-align: middle;\n",
       "    }\n",
       "\n",
       "    .dataframe tbody tr th {\n",
       "        vertical-align: top;\n",
       "    }\n",
       "\n",
       "    .dataframe thead th {\n",
       "        text-align: right;\n",
       "    }\n",
       "</style>\n",
       "<table border=\"1\" class=\"dataframe\">\n",
       "  <thead>\n",
       "    <tr style=\"text-align: right;\">\n",
       "      <th></th>\n",
       "      <th>classes</th>\n",
       "      <th>observacoes</th>\n",
       "      <th>ponto_medio</th>\n",
       "    </tr>\n",
       "  </thead>\n",
       "  <tbody>\n",
       "    <tr>\n",
       "      <th>0</th>\n",
       "      <td>[0, 10]</td>\n",
       "      <td>34</td>\n",
       "      <td>5.0</td>\n",
       "    </tr>\n",
       "    <tr>\n",
       "      <th>1</th>\n",
       "      <td>[10, 20]</td>\n",
       "      <td>31</td>\n",
       "      <td>15.0</td>\n",
       "    </tr>\n",
       "    <tr>\n",
       "      <th>2</th>\n",
       "      <td>[20, 30]</td>\n",
       "      <td>13</td>\n",
       "      <td>25.0</td>\n",
       "    </tr>\n",
       "    <tr>\n",
       "      <th>3</th>\n",
       "      <td>[30, 40]</td>\n",
       "      <td>8</td>\n",
       "      <td>35.0</td>\n",
       "    </tr>\n",
       "    <tr>\n",
       "      <th>4</th>\n",
       "      <td>[40, 50]</td>\n",
       "      <td>5</td>\n",
       "      <td>45.0</td>\n",
       "    </tr>\n",
       "  </tbody>\n",
       "</table>\n",
       "</div>"
      ],
      "text/plain": [
       "    classes  observacoes  ponto_medio\n",
       "0   [0, 10]           34          5.0\n",
       "1  [10, 20]           31         15.0\n",
       "2  [20, 30]           13         25.0\n",
       "3  [30, 40]            8         35.0\n",
       "4  [40, 50]            5         45.0"
      ]
     },
     "execution_count": 11,
     "metadata": {},
     "output_type": "execute_result"
    }
   ],
   "source": [
    "df.head()"
   ]
  },
  {
   "cell_type": "code",
   "execution_count": 12,
   "metadata": {},
   "outputs": [],
   "source": [
    "df['frequencia'] = df['observacoes']/100 # Gera a coluna de frequencia"
   ]
  },
  {
   "cell_type": "code",
   "execution_count": 13,
   "metadata": {},
   "outputs": [
    {
     "data": {
      "text/html": [
       "<div>\n",
       "<style scoped>\n",
       "    .dataframe tbody tr th:only-of-type {\n",
       "        vertical-align: middle;\n",
       "    }\n",
       "\n",
       "    .dataframe tbody tr th {\n",
       "        vertical-align: top;\n",
       "    }\n",
       "\n",
       "    .dataframe thead th {\n",
       "        text-align: right;\n",
       "    }\n",
       "</style>\n",
       "<table border=\"1\" class=\"dataframe\">\n",
       "  <thead>\n",
       "    <tr style=\"text-align: right;\">\n",
       "      <th></th>\n",
       "      <th>classes</th>\n",
       "      <th>observacoes</th>\n",
       "      <th>ponto_medio</th>\n",
       "      <th>frequencia</th>\n",
       "    </tr>\n",
       "  </thead>\n",
       "  <tbody>\n",
       "    <tr>\n",
       "      <th>0</th>\n",
       "      <td>[0, 10]</td>\n",
       "      <td>34</td>\n",
       "      <td>5.0</td>\n",
       "      <td>0.34</td>\n",
       "    </tr>\n",
       "    <tr>\n",
       "      <th>1</th>\n",
       "      <td>[10, 20]</td>\n",
       "      <td>31</td>\n",
       "      <td>15.0</td>\n",
       "      <td>0.31</td>\n",
       "    </tr>\n",
       "    <tr>\n",
       "      <th>2</th>\n",
       "      <td>[20, 30]</td>\n",
       "      <td>13</td>\n",
       "      <td>25.0</td>\n",
       "      <td>0.13</td>\n",
       "    </tr>\n",
       "    <tr>\n",
       "      <th>3</th>\n",
       "      <td>[30, 40]</td>\n",
       "      <td>8</td>\n",
       "      <td>35.0</td>\n",
       "      <td>0.08</td>\n",
       "    </tr>\n",
       "    <tr>\n",
       "      <th>4</th>\n",
       "      <td>[40, 50]</td>\n",
       "      <td>5</td>\n",
       "      <td>45.0</td>\n",
       "      <td>0.05</td>\n",
       "    </tr>\n",
       "  </tbody>\n",
       "</table>\n",
       "</div>"
      ],
      "text/plain": [
       "    classes  observacoes  ponto_medio  frequencia\n",
       "0   [0, 10]           34          5.0        0.34\n",
       "1  [10, 20]           31         15.0        0.31\n",
       "2  [20, 30]           13         25.0        0.13\n",
       "3  [30, 40]            8         35.0        0.08\n",
       "4  [40, 50]            5         45.0        0.05"
      ]
     },
     "execution_count": 13,
     "metadata": {},
     "output_type": "execute_result"
    }
   ],
   "source": [
    "df.head()"
   ]
  },
  {
   "cell_type": "code",
   "execution_count": 14,
   "metadata": {},
   "outputs": [],
   "source": [
    "df['frequencia_acumulada'] = [sum(df['frequencia'][0:i+1]) for i in range(len(df['frequencia']))]\n",
    "# Gera a coluna de frequencia acumulada"
   ]
  },
  {
   "cell_type": "code",
   "execution_count": 15,
   "metadata": {},
   "outputs": [
    {
     "data": {
      "text/html": [
       "<div>\n",
       "<style scoped>\n",
       "    .dataframe tbody tr th:only-of-type {\n",
       "        vertical-align: middle;\n",
       "    }\n",
       "\n",
       "    .dataframe tbody tr th {\n",
       "        vertical-align: top;\n",
       "    }\n",
       "\n",
       "    .dataframe thead th {\n",
       "        text-align: right;\n",
       "    }\n",
       "</style>\n",
       "<table border=\"1\" class=\"dataframe\">\n",
       "  <thead>\n",
       "    <tr style=\"text-align: right;\">\n",
       "      <th></th>\n",
       "      <th>classes</th>\n",
       "      <th>observacoes</th>\n",
       "      <th>ponto_medio</th>\n",
       "      <th>frequencia</th>\n",
       "      <th>frequencia_acumulada</th>\n",
       "    </tr>\n",
       "  </thead>\n",
       "  <tbody>\n",
       "    <tr>\n",
       "      <th>0</th>\n",
       "      <td>[0, 10]</td>\n",
       "      <td>34</td>\n",
       "      <td>5.0</td>\n",
       "      <td>0.34</td>\n",
       "      <td>0.34</td>\n",
       "    </tr>\n",
       "    <tr>\n",
       "      <th>1</th>\n",
       "      <td>[10, 20]</td>\n",
       "      <td>31</td>\n",
       "      <td>15.0</td>\n",
       "      <td>0.31</td>\n",
       "      <td>0.65</td>\n",
       "    </tr>\n",
       "    <tr>\n",
       "      <th>2</th>\n",
       "      <td>[20, 30]</td>\n",
       "      <td>13</td>\n",
       "      <td>25.0</td>\n",
       "      <td>0.13</td>\n",
       "      <td>0.78</td>\n",
       "    </tr>\n",
       "    <tr>\n",
       "      <th>3</th>\n",
       "      <td>[30, 40]</td>\n",
       "      <td>8</td>\n",
       "      <td>35.0</td>\n",
       "      <td>0.08</td>\n",
       "      <td>0.86</td>\n",
       "    </tr>\n",
       "    <tr>\n",
       "      <th>4</th>\n",
       "      <td>[40, 50]</td>\n",
       "      <td>5</td>\n",
       "      <td>45.0</td>\n",
       "      <td>0.05</td>\n",
       "      <td>0.91</td>\n",
       "    </tr>\n",
       "    <tr>\n",
       "      <th>5</th>\n",
       "      <td>[50, 60]</td>\n",
       "      <td>2</td>\n",
       "      <td>55.0</td>\n",
       "      <td>0.02</td>\n",
       "      <td>0.93</td>\n",
       "    </tr>\n",
       "    <tr>\n",
       "      <th>6</th>\n",
       "      <td>[60, 70]</td>\n",
       "      <td>2</td>\n",
       "      <td>65.0</td>\n",
       "      <td>0.02</td>\n",
       "      <td>0.95</td>\n",
       "    </tr>\n",
       "    <tr>\n",
       "      <th>7</th>\n",
       "      <td>[70, 80]</td>\n",
       "      <td>4</td>\n",
       "      <td>75.0</td>\n",
       "      <td>0.04</td>\n",
       "      <td>0.99</td>\n",
       "    </tr>\n",
       "    <tr>\n",
       "      <th>8</th>\n",
       "      <td>[80, 90]</td>\n",
       "      <td>0</td>\n",
       "      <td>85.0</td>\n",
       "      <td>0.00</td>\n",
       "      <td>0.99</td>\n",
       "    </tr>\n",
       "    <tr>\n",
       "      <th>9</th>\n",
       "      <td>[90, 100]</td>\n",
       "      <td>1</td>\n",
       "      <td>95.0</td>\n",
       "      <td>0.01</td>\n",
       "      <td>1.00</td>\n",
       "    </tr>\n",
       "  </tbody>\n",
       "</table>\n",
       "</div>"
      ],
      "text/plain": [
       "     classes  observacoes  ponto_medio  frequencia  frequencia_acumulada\n",
       "0    [0, 10]           34          5.0        0.34                  0.34\n",
       "1   [10, 20]           31         15.0        0.31                  0.65\n",
       "2   [20, 30]           13         25.0        0.13                  0.78\n",
       "3   [30, 40]            8         35.0        0.08                  0.86\n",
       "4   [40, 50]            5         45.0        0.05                  0.91\n",
       "5   [50, 60]            2         55.0        0.02                  0.93\n",
       "6   [60, 70]            2         65.0        0.02                  0.95\n",
       "7   [70, 80]            4         75.0        0.04                  0.99\n",
       "8   [80, 90]            0         85.0        0.00                  0.99\n",
       "9  [90, 100]            1         95.0        0.01                  1.00"
      ]
     },
     "execution_count": 15,
     "metadata": {},
     "output_type": "execute_result"
    }
   ],
   "source": [
    "df"
   ]
  },
  {
   "cell_type": "code",
   "execution_count": 16,
   "metadata": {},
   "outputs": [],
   "source": [
    "frequencia_intervalo = []\n",
    "for i in range(len(df['frequencia_acumulada'])):\n",
    "    if(i==0): \n",
    "        frequencia_intervalo.append([0, df['frequencia_acumulada'][i]])\n",
    "    else: \n",
    "        frequencia_intervalo.append([df['frequencia_acumulada'][i-1], df['frequencia_acumulada'][i]])\n",
    "    "
   ]
  },
  {
   "cell_type": "code",
   "execution_count": 17,
   "metadata": {},
   "outputs": [
    {
     "data": {
      "text/plain": [
       "[[0, 0.34],\n",
       " [0.34, 0.65],\n",
       " [0.65, 0.78],\n",
       " [0.78, 0.86],\n",
       " [0.86, 0.91],\n",
       " [0.91, 0.93],\n",
       " [0.93, 0.9500000000000001],\n",
       " [0.9500000000000001, 0.9900000000000001],\n",
       " [0.9900000000000001, 0.9900000000000001],\n",
       " [0.9900000000000001, 1.0]]"
      ]
     },
     "execution_count": 17,
     "metadata": {},
     "output_type": "execute_result"
    }
   ],
   "source": [
    "frequencia_intervalo # Mostra o intervalo de frequencias"
   ]
  },
  {
   "cell_type": "code",
   "execution_count": 18,
   "metadata": {},
   "outputs": [],
   "source": [
    "df['frequencia_intervalo'] = frequencia_intervalo # Gera a coluna de intervalos de frequencia"
   ]
  },
  {
   "cell_type": "code",
   "execution_count": 19,
   "metadata": {},
   "outputs": [
    {
     "data": {
      "text/html": [
       "<div>\n",
       "<style scoped>\n",
       "    .dataframe tbody tr th:only-of-type {\n",
       "        vertical-align: middle;\n",
       "    }\n",
       "\n",
       "    .dataframe tbody tr th {\n",
       "        vertical-align: top;\n",
       "    }\n",
       "\n",
       "    .dataframe thead th {\n",
       "        text-align: right;\n",
       "    }\n",
       "</style>\n",
       "<table border=\"1\" class=\"dataframe\">\n",
       "  <thead>\n",
       "    <tr style=\"text-align: right;\">\n",
       "      <th></th>\n",
       "      <th>classes</th>\n",
       "      <th>observacoes</th>\n",
       "      <th>ponto_medio</th>\n",
       "      <th>frequencia</th>\n",
       "      <th>frequencia_acumulada</th>\n",
       "      <th>frequencia_intervalo</th>\n",
       "    </tr>\n",
       "  </thead>\n",
       "  <tbody>\n",
       "    <tr>\n",
       "      <th>0</th>\n",
       "      <td>[0, 10]</td>\n",
       "      <td>34</td>\n",
       "      <td>5.0</td>\n",
       "      <td>0.34</td>\n",
       "      <td>0.34</td>\n",
       "      <td>[0, 0.34]</td>\n",
       "    </tr>\n",
       "    <tr>\n",
       "      <th>1</th>\n",
       "      <td>[10, 20]</td>\n",
       "      <td>31</td>\n",
       "      <td>15.0</td>\n",
       "      <td>0.31</td>\n",
       "      <td>0.65</td>\n",
       "      <td>[0.34, 0.65]</td>\n",
       "    </tr>\n",
       "    <tr>\n",
       "      <th>2</th>\n",
       "      <td>[20, 30]</td>\n",
       "      <td>13</td>\n",
       "      <td>25.0</td>\n",
       "      <td>0.13</td>\n",
       "      <td>0.78</td>\n",
       "      <td>[0.65, 0.78]</td>\n",
       "    </tr>\n",
       "    <tr>\n",
       "      <th>3</th>\n",
       "      <td>[30, 40]</td>\n",
       "      <td>8</td>\n",
       "      <td>35.0</td>\n",
       "      <td>0.08</td>\n",
       "      <td>0.86</td>\n",
       "      <td>[0.78, 0.86]</td>\n",
       "    </tr>\n",
       "    <tr>\n",
       "      <th>4</th>\n",
       "      <td>[40, 50]</td>\n",
       "      <td>5</td>\n",
       "      <td>45.0</td>\n",
       "      <td>0.05</td>\n",
       "      <td>0.91</td>\n",
       "      <td>[0.86, 0.91]</td>\n",
       "    </tr>\n",
       "    <tr>\n",
       "      <th>5</th>\n",
       "      <td>[50, 60]</td>\n",
       "      <td>2</td>\n",
       "      <td>55.0</td>\n",
       "      <td>0.02</td>\n",
       "      <td>0.93</td>\n",
       "      <td>[0.91, 0.93]</td>\n",
       "    </tr>\n",
       "    <tr>\n",
       "      <th>6</th>\n",
       "      <td>[60, 70]</td>\n",
       "      <td>2</td>\n",
       "      <td>65.0</td>\n",
       "      <td>0.02</td>\n",
       "      <td>0.95</td>\n",
       "      <td>[0.93, 0.9500000000000001]</td>\n",
       "    </tr>\n",
       "    <tr>\n",
       "      <th>7</th>\n",
       "      <td>[70, 80]</td>\n",
       "      <td>4</td>\n",
       "      <td>75.0</td>\n",
       "      <td>0.04</td>\n",
       "      <td>0.99</td>\n",
       "      <td>[0.9500000000000001, 0.9900000000000001]</td>\n",
       "    </tr>\n",
       "    <tr>\n",
       "      <th>8</th>\n",
       "      <td>[80, 90]</td>\n",
       "      <td>0</td>\n",
       "      <td>85.0</td>\n",
       "      <td>0.00</td>\n",
       "      <td>0.99</td>\n",
       "      <td>[0.9900000000000001, 0.9900000000000001]</td>\n",
       "    </tr>\n",
       "    <tr>\n",
       "      <th>9</th>\n",
       "      <td>[90, 100]</td>\n",
       "      <td>1</td>\n",
       "      <td>95.0</td>\n",
       "      <td>0.01</td>\n",
       "      <td>1.00</td>\n",
       "      <td>[0.9900000000000001, 1.0]</td>\n",
       "    </tr>\n",
       "  </tbody>\n",
       "</table>\n",
       "</div>"
      ],
      "text/plain": [
       "     classes  observacoes  ponto_medio  frequencia  frequencia_acumulada  \\\n",
       "0    [0, 10]           34          5.0        0.34                  0.34   \n",
       "1   [10, 20]           31         15.0        0.31                  0.65   \n",
       "2   [20, 30]           13         25.0        0.13                  0.78   \n",
       "3   [30, 40]            8         35.0        0.08                  0.86   \n",
       "4   [40, 50]            5         45.0        0.05                  0.91   \n",
       "5   [50, 60]            2         55.0        0.02                  0.93   \n",
       "6   [60, 70]            2         65.0        0.02                  0.95   \n",
       "7   [70, 80]            4         75.0        0.04                  0.99   \n",
       "8   [80, 90]            0         85.0        0.00                  0.99   \n",
       "9  [90, 100]            1         95.0        0.01                  1.00   \n",
       "\n",
       "                       frequencia_intervalo  \n",
       "0                                 [0, 0.34]  \n",
       "1                              [0.34, 0.65]  \n",
       "2                              [0.65, 0.78]  \n",
       "3                              [0.78, 0.86]  \n",
       "4                              [0.86, 0.91]  \n",
       "5                              [0.91, 0.93]  \n",
       "6                [0.93, 0.9500000000000001]  \n",
       "7  [0.9500000000000001, 0.9900000000000001]  \n",
       "8  [0.9900000000000001, 0.9900000000000001]  \n",
       "9                 [0.9900000000000001, 1.0]  "
      ]
     },
     "execution_count": 19,
     "metadata": {},
     "output_type": "execute_result"
    }
   ],
   "source": [
    "df"
   ]
  },
  {
   "cell_type": "code",
   "execution_count": 20,
   "metadata": {},
   "outputs": [
    {
     "data": {
      "text/plain": [
       "<matplotlib.axes._subplots.AxesSubplot at 0x10874af60>"
      ]
     },
     "execution_count": 20,
     "metadata": {},
     "output_type": "execute_result"
    },
    {
     "data": {
      "image/png": "[encoded data removed]",
      "text/plain": [
       "<matplotlib.figure.Figure at 0x10874aeb8>"
      ]
     },
     "metadata": {},
     "output_type": "display_data"
    }
   ],
   "source": [
    "df['observacoes'].plot() # Plota o gráfico discretizados "
   ]
  },
  {
   "cell_type": "code",
   "execution_count": 21,
   "metadata": {},
   "outputs": [],
   "source": [
    "random_numbers = np.random.uniform(0, 1 , 100) \n",
    "# Gera 100 valores aleatórios entre 0 e 1"
   ]
  },
  {
   "cell_type": "code",
   "execution_count": 22,
   "metadata": {},
   "outputs": [
    {
     "data": {
      "text/plain": [
       "array([0.06560008, 0.07313665, 0.84986041, 0.36147267, 0.00742887,\n",
       "       0.092383  , 0.50742279, 0.11905503, 0.33919485, 0.99499858])"
      ]
     },
     "execution_count": 22,
     "metadata": {},
     "output_type": "execute_result"
    }
   ],
   "source": [
    "random_numbers[:10] # amostra de 10 números dos 100"
   ]
  },
  {
   "cell_type": "code",
   "execution_count": 23,
   "metadata": {},
   "outputs": [],
   "source": [
    "tec = [] # gera os tecs relacionados aos números aleatórios\n",
    "for random_number in random_numbers:\n",
    "    tec.append([df['ponto_medio'][i] for i in range(len(df['frequencia_intervalo'])) if random_number >= df['frequencia_intervalo'][i][0] and random_number <= df['frequencia_intervalo'][i][1]])\n",
    "    "
   ]
  },
  {
   "cell_type": "code",
   "execution_count": 24,
   "metadata": {},
   "outputs": [
    {
     "data": {
      "text/plain": [
       "[[5.0], [5.0], [35.0], [15.0], [5.0], [5.0], [15.0], [5.0], [5.0], [95.0]]"
      ]
     },
     "execution_count": 24,
     "metadata": {},
     "output_type": "execute_result"
    }
   ],
   "source": [
    "tec[:10] # 10 valores de amostra"
   ]
  },
  {
   "cell_type": "code",
   "execution_count": 25,
   "metadata": {},
   "outputs": [],
   "source": [
    "unique, counts = np.unique(tec, return_counts=True)\n",
    "oc = list(zip(unique, counts)) # Conta os valores que apareceram decorrentes dos aleatórios"
   ]
  },
  {
   "cell_type": "code",
   "execution_count": 26,
   "metadata": {},
   "outputs": [
    {
     "data": {
      "text/plain": [
       "[array([ 5., 15., 25., 35., 45., 55., 65., 75., 95.]),\n",
       " array([38, 34, 11,  7,  1,  2,  2,  4,  1])]"
      ]
     },
     "execution_count": 26,
     "metadata": {},
     "output_type": "execute_result"
    }
   ],
   "source": [
    "[unique, counts]"
   ]
  },
  {
   "cell_type": "code",
   "execution_count": 27,
   "metadata": {},
   "outputs": [
    {
     "data": {
      "text/plain": [
       "[<matplotlib.lines.Line2D at 0x1088522b0>]"
      ]
     },
     "execution_count": 27,
     "metadata": {},
     "output_type": "execute_result"
    },
    {
     "data": {
      "image/png": "[encoded data removed]",
      "text/plain": [
       "<matplotlib.figure.Figure at 0x108803278>"
      ]
     },
     "metadata": {},
     "output_type": "display_data"
    }
   ],
   "source": [
    "plt.plot(unique, counts) #plota o número de aparições de cada valor médio"
   ]
  },
  {
   "cell_type": "code",
   "execution_count": 28,
   "metadata": {},
   "outputs": [],
   "source": [
    "df.to_csv('22-03-2018.csv') # Gera o arquivo csv com a tabela (para entrega)"
   ]
  },
  {
   "cell_type": "code",
   "execution_count": 29,
   "metadata": {},
   "outputs": [
    {
     "data": {
      "text/plain": [
       "<matplotlib.legend.Legend at 0x108d14048>"
      ]
     },
     "execution_count": 29,
     "metadata": {},
     "output_type": "execute_result"
    },
    {
     "data": {
      "image/png": "[encoded data removed]",
      "text/plain": [
       "<matplotlib.figure.Figure at 0x1088298d0>"
      ]
     },
     "metadata": {},
     "output_type": "display_data"
    }
   ],
   "source": [
    "plt.plot(df['ponto_medio'], df['observacoes'], label=\"Observações de entrada discretizadas\")\n",
    "plt.plot(unique, counts, label=\"Observações escolhidas randomicamente\")\n",
    "plt.legend()\n",
    "\n",
    "# Plota a diferença entre a distribuição discreta real (entrada) e a frequencia gerada\n",
    "# pela aparição de 100 números"
   ]
  },
  {
   "cell_type": "code",
   "execution_count": null,
   "metadata": {},
   "outputs": [],
   "source": []
  }
 ],
 "metadata": {
  "kernelspec": {
   "display_name": "Python 3",
   "language": "python",
   "name": "python3"
  },
  "language_info": {
   "codemirror_mode": {
    "name": "ipython",
    "version": 3
   },
   "file_extension": ".py",
   "mimetype": "text/x-python",
   "name": "python",
   "nbconvert_exporter": "python",
   "pygments_lexer": "ipython3",
   "version": "3.6.4"
  }
 },
 "nbformat": 4,
 "nbformat_minor": 2
}
